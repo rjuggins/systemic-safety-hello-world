{
 "cells": [
  {
   "cell_type": "code",
   "execution_count": null,
   "metadata": {},
   "outputs": [],
   "source": [
    "import yaml\n",
    "from components.instructor import Instructor\n",
    "\n",
    "import torch\n",
    "torch.manual_seed(42)\n",
    "\n",
    "# Load config file into dictionary\n",
    "with open('./config/instructor_config.yaml', 'r') as file:\n",
    "    config = yaml.safe_load(file)\n",
    "print(config)\n",
    "\n",
    "instructor = Instructor(config)\n",
    "instructor.load_model()\n",
    "instructor.load_data(test_size=0.005)\n",
    "# instructor.train_dataset['text']"
   ]
  },
  {
   "cell_type": "code",
   "execution_count": null,
   "metadata": {},
   "outputs": [],
   "source": [
    "# instructor.train_dataset.num_rows/32"
   ]
  },
  {
   "cell_type": "code",
   "execution_count": null,
   "metadata": {},
   "outputs": [],
   "source": [
    "instructor.train_model()"
   ]
  },
  {
   "cell_type": "code",
   "execution_count": null,
   "metadata": {},
   "outputs": [],
   "source": [
    "instructor.push_model(checkpoint=True)"
   ]
  },
  {
   "cell_type": "code",
   "execution_count": null,
   "metadata": {},
   "outputs": [],
   "source": [
    "# # Load config file into dictionary -- ONLY CHANGE TRAINING AND LORA PARAMETERS HERE\n",
    "# with open('./config/instructor_config.yaml', 'r') as file:\n",
    "#     config = yaml.safe_load(file)\n",
    "# print(config)\n",
    "\n",
    "# # LoRA configuration\n",
    "# peft_config = LoraConfig(**config[\"lora_params\"])\n",
    "\n",
    "# lora_model = get_peft_model(instructor.model, peft_config)\n",
    "# lora_model.print_trainable_parameters()\n",
    "\n",
    "# # Training arguments\n",
    "# training_args = TrainingArguments(**config[\"training_params\"])\n",
    "\n",
    "# # Create trainer\n",
    "# trainer = SFTTrainer(\n",
    "#     model=instructor.model,\n",
    "#     train_dataset=instructor.train_dataset,\n",
    "#     eval_dataset=instructor.test_dataset,\n",
    "#     peft_config=peft_config,\n",
    "#     dataset_text_field=\"text\",\n",
    "#     max_seq_length=config[\"max_length\"],\n",
    "#     tokenizer=instructor.tokenizer,\n",
    "#     args=training_args,\n",
    "#     packing=config[\"packing\"]\n",
    "# )\n",
    "\n",
    "# trainer.train()"
   ]
  },
  {
   "cell_type": "code",
   "execution_count": null,
   "metadata": {},
   "outputs": [],
   "source": []
  }
 ],
 "metadata": {
  "kernelspec": {
   "display_name": "Python 3",
   "language": "python",
   "name": "python3"
  },
  "language_info": {
   "codemirror_mode": {
    "name": "ipython",
    "version": 3
   },
   "file_extension": ".py",
   "mimetype": "text/x-python",
   "name": "python",
   "nbconvert_exporter": "python",
   "pygments_lexer": "ipython3",
   "version": "3.10.12"
  }
 },
 "nbformat": 4,
 "nbformat_minor": 2
}
