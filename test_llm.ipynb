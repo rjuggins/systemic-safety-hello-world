{
 "cells": [
  {
   "cell_type": "code",
   "execution_count": null,
   "id": "0c909cc1-764c-4f6b-bc0b-8957aeb93d55",
   "metadata": {},
   "outputs": [],
   "source": [
    "# run `huggingface-cli login` on command line\n",
    "# !pip install --upgrade transformers\n",
    "# !pip install --upgrade tokenizers\n",
    "# !pip install --upgrade torch"
   ]
  },
  {
   "cell_type": "code",
   "execution_count": null,
   "id": "069bcf63-8dcb-4606-a45a-472daaa66ec2",
   "metadata": {},
   "outputs": [],
   "source": [
    "from huggingface_hub import notebook_login\n",
    "notebook_login()"
   ]
  },
  {
   "cell_type": "code",
   "execution_count": null,
   "id": "a337770e-4b1d-41b6-a7d3-975e88ce5aea",
   "metadata": {
    "scrolled": true,
    "tags": []
   },
   "outputs": [],
   "source": [
    "from accelerate import infer_auto_device_map, init_empty_weights\n",
    "from transformers import AutoConfig, AutoTokenizer, AutoModelForCausalLM, LlamaTokenizer\n",
    "\n",
    "checkpoint = 'meta-llama/Llama-2-7b-chat-hf'\n",
    "\n",
    "config = AutoConfig.from_pretrained(checkpoint)#, use_auth_token=True)\n",
    "with init_empty_weights():\n",
    "    model = AutoModelForCausalLM.from_config(config)\n",
    "model"
   ]
  },
  {
   "cell_type": "code",
   "execution_count": null,
   "id": "9405215d-5473-40d5-8cc9-f137f54c1ade",
   "metadata": {},
   "outputs": [],
   "source": [
    "device_map = infer_auto_device_map(model, no_split_module_classes=[\"LlamaDecoderLayer\"])\n",
    "device_map"
   ]
  },
  {
   "cell_type": "code",
   "execution_count": null,
   "id": "adad557e-1f17-45ee-8015-8d49adee332f",
   "metadata": {},
   "outputs": [],
   "source": [
    "tokenizer = LlamaTokenizer.from_pretrained(checkpoint)\n",
    "\n",
    "model = AutoModelForCausalLM.from_pretrained(checkpoint, device_map=device_map)\n",
    "\n",
    "model.hf_device_map"
   ]
  },
  {
   "cell_type": "code",
   "execution_count": null,
   "id": "0bf96145-8422-41d8-95e5-d8a6bcbbbdde",
   "metadata": {},
   "outputs": [],
   "source": [
    "prompt = 'Hello, tell me about yourself'\n",
    "\n",
    "input_ids = tokenizer.encode(prompt, return_tensors='pt').to('cuda')\n",
    "\n",
    "output = model.generate(input_ids, max_length=100, temperature=0.7, do_sample=True)\n",
    "\n",
    "decoded_output = tokenizer.decode(output[0])\n",
    "print(decoded_output)"
   ]
  },
  {
   "cell_type": "code",
   "execution_count": null,
   "id": "4b0c1d1c-39aa-4837-a11c-3bc3e980bbcd",
   "metadata": {},
   "outputs": [],
   "source": []
  }
 ],
 "metadata": {
  "kernelspec": {
   "display_name": "Python 3 (ipykernel)",
   "language": "python",
   "name": "python3"
  },
  "language_info": {
   "codemirror_mode": {
    "name": "ipython",
    "version": 3
   },
   "file_extension": ".py",
   "mimetype": "text/x-python",
   "name": "python",
   "nbconvert_exporter": "python",
   "pygments_lexer": "ipython3",
   "version": "3.9.16"
  }
 },
 "nbformat": 4,
 "nbformat_minor": 5
}
