{
 "cells": [
  {
   "cell_type": "code",
   "execution_count": null,
   "metadata": {},
   "outputs": [],
   "source": [
    "import os\n",
    "os.environ[\"TOKENIZERS_PARALLELISM\"] = \"false\"\n",
    "\n",
    "from models.worker import Worker\n",
    "from models.outside_expert import OutsideExpert\n",
    "from models.user import User\n",
    "            \n",
    "file_paths = ['./data/helpful-base/test.jsonl', './data/harmless-base/test.jsonl']\n",
    "\n",
    "model_id = 'princeton-nlp/Sheared-LLaMA-2.7B-ShareGPT'\n",
    "# model_id = 'mistralai/Mistral-7B-Instruct-v0.2'"
   ]
  },
  {
   "cell_type": "code",
   "execution_count": null,
   "metadata": {},
   "outputs": [],
   "source": [
    "worker = Worker(model_id)\n",
    "worker.model"
   ]
  },
  {
   "cell_type": "code",
   "execution_count": null,
   "metadata": {},
   "outputs": [],
   "source": [
    "worker.check_device_map(no_split_module_classes=[\"MistralDecoderLayer\"])"
   ]
  },
  {
   "cell_type": "code",
   "execution_count": null,
   "metadata": {},
   "outputs": [],
   "source": [
    "worker.load_model()"
   ]
  },
  {
   "cell_type": "code",
   "execution_count": null,
   "metadata": {},
   "outputs": [],
   "source": [
    "# Could make these from the training set with the preferred responses (slice them off so you don't fine tune on them?)\n",
    "\n",
    "examples = [\n",
    "    {\n",
    "        \"query\":\"What is the capital of Japan?\",\n",
    "        \"answer\":\"Tokyo is the capital city of Japan.\"\n",
    "    },\n",
    "    {\n",
    "        \"query\":\"What is the main ingredient in an omlette?\",\n",
    "        \"answer\":\"The main ingredient in an omelette is egg.\"\n",
    "    }\n",
    "]\n",
    "\n",
    "worker.set_prompt_examples(examples)"
   ]
  },
  {
   "cell_type": "code",
   "execution_count": null,
   "metadata": {},
   "outputs": [],
   "source": [
    "user_data_path = './data/harmless-base/test.jsonl'\n",
    "\n",
    "user = User(data_path=user_data_path)"
   ]
  },
  {
   "cell_type": "code",
   "execution_count": null,
   "metadata": {},
   "outputs": [],
   "source": [
    "num_queries = 2\n",
    "\n",
    "queries = []\n",
    "\n",
    "for n in range(num_queries):\n",
    "    queries.append(user.get_query())\n",
    "\n",
    "responses = worker.generate_text(queries)\n",
    "for response in responses:\n",
    "    print(response)"
   ]
  },
  {
   "cell_type": "code",
   "execution_count": null,
   "metadata": {},
   "outputs": [],
   "source": [
    "expert_model_id = 'gpt-4'\n",
    "\n",
    "openai_key_path = 'keys/openai_key.txt'\n",
    "\n",
    "with open(openai_key_path, 'r') as file:\n",
    "    openai_key = file.read().strip()\n",
    "\n",
    "expert_example = {'example_query':'What is the capital of Japan?',\n",
    "                  'example_answer':'Sausages',\n",
    "                  'example_rating':0}\n",
    "\n",
    "helpfulness_expert = OutsideExpert(\n",
    "    model_id=expert_model_id,\n",
    "    openai_key=openai_key,\n",
    "    target='helpfulness',\n",
    "    example=expert_example)\n",
    "\n",
    "helpfulness_expert.rate_responses(queries, responses)"
   ]
  },
  {
   "cell_type": "markdown",
   "metadata": {},
   "source": []
  }
 ],
 "metadata": {
  "kernelspec": {
   "display_name": "Python 3",
   "language": "python",
   "name": "python3"
  },
  "language_info": {
   "codemirror_mode": {
    "name": "ipython",
    "version": 3
   },
   "file_extension": ".py",
   "mimetype": "text/x-python",
   "name": "python",
   "nbconvert_exporter": "python",
   "pygments_lexer": "ipython3",
   "version": "3.9.16"
  }
 },
 "nbformat": 4,
 "nbformat_minor": 2
}
