{
 "cells": [
  {
   "cell_type": "code",
   "execution_count": null,
   "metadata": {},
   "outputs": [],
   "source": [
    "import json\n",
    "import numpy as np\n",
    "import torch\n",
    "from torch import cuda\n",
    "from accelerate import infer_auto_device_map, init_empty_weights\n",
    "from transformers import AutoConfig, AutoTokenizer, AutoModelForCausalLM\n",
    "\n",
    "from models.worker import Worker\n",
    "\n",
    "def stream_jsonl(file_path):\n",
    "    with open(file_path, 'r') as file:\n",
    "        lines = file.readlines()\n",
    "    np.random.shuffle(lines)\n",
    "    \n",
    "    for line in lines:\n",
    "        yield json.loads(line)\n",
    "            \n",
    "file_paths = ['./data/helpful-base/test.jsonl', './data/harmless-base/test.jsonl']\n",
    "\n",
    "model_id = 'princeton-nlp/Sheared-LLaMA-2.7B'"
   ]
  },
  {
   "cell_type": "code",
   "execution_count": null,
   "metadata": {},
   "outputs": [],
   "source": [
    "worker = Worker(model_id)\n",
    "worker.model"
   ]
  },
  {
   "cell_type": "code",
   "execution_count": null,
   "metadata": {},
   "outputs": [],
   "source": [
    "worker.check_device_map(no_split_module_classes=[\"LlamaDecoderLayer\"])"
   ]
  },
  {
   "cell_type": "code",
   "execution_count": null,
   "metadata": {},
   "outputs": [],
   "source": [
    "worker.load_model()"
   ]
  },
  {
   "cell_type": "code",
   "execution_count": null,
   "metadata": {},
   "outputs": [],
   "source": [
    "pre_prompt = \"\"\"You are a Chatbot responding to questions from a human. Try and be helpful but not harmful.\n",
    "For example, a good exchange, where you are the Chatbot, goes like this:\n",
    "Human: What country is Tokyo in?\n",
    "Chatbot: Japan.\n",
    "Stop talking after your response, in particular do not start a new line or say 'Human', just stop.\n",
    "\"\"\"\n",
    "\n",
    "worker.set_pre_prompt(pre_prompt)"
   ]
  },
  {
   "cell_type": "code",
   "execution_count": null,
   "metadata": {},
   "outputs": [],
   "source": [
    "data_path = file_paths[np.random.choice([0,1])]\n",
    "prompt = next(iter(stream_jsonl(data_path)))\n",
    "prompt = prompt['chosen'].split('\\n')[2]\n",
    "print(prompt)"
   ]
  },
  {
   "cell_type": "code",
   "execution_count": null,
   "metadata": {},
   "outputs": [],
   "source": [
    "worker.send_prompt(prompt)"
   ]
  },
  {
   "cell_type": "code",
   "execution_count": null,
   "metadata": {},
   "outputs": [],
   "source": []
  }
 ],
 "metadata": {
  "kernelspec": {
   "display_name": "Python 3",
   "language": "python",
   "name": "python3"
  },
  "language_info": {
   "codemirror_mode": {
    "name": "ipython",
    "version": 3
   },
   "file_extension": ".py",
   "mimetype": "text/x-python",
   "name": "python",
   "nbconvert_exporter": "python",
   "pygments_lexer": "ipython3",
   "version": "3.9.16"
  }
 },
 "nbformat": 4,
 "nbformat_minor": 2
}
