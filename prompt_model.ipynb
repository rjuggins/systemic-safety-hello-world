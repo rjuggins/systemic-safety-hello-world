{
 "cells": [
  {
   "cell_type": "code",
   "execution_count": null,
   "metadata": {},
   "outputs": [],
   "source": [
    "import json\n",
    "import numpy as np\n",
    "import torch\n",
    "from torch import cuda\n",
    "from accelerate import infer_auto_device_map, init_empty_weights\n",
    "from transformers import AutoConfig, AutoTokenizer, AutoModelForCausalLM\n",
    "from langchain import PromptTemplate, FewShotPromptTemplate\n",
    "\n",
    "from models.worker import Worker\n",
    "\n",
    "def stream_jsonl(file_path):\n",
    "    with open(file_path, 'r') as file:\n",
    "        lines = file.readlines()\n",
    "    np.random.shuffle(lines)\n",
    "    \n",
    "    for line in lines:\n",
    "        yield json.loads(line)\n",
    "            \n",
    "file_paths = ['./data/helpful-base/test.jsonl', './data/harmless-base/test.jsonl']\n",
    "\n",
    "model_id = 'princeton-nlp/Sheared-LLaMA-2.7B'"
   ]
  },
  {
   "cell_type": "code",
   "execution_count": null,
   "metadata": {},
   "outputs": [],
   "source": [
    "worker = Worker(model_id)\n",
    "worker.model"
   ]
  },
  {
   "cell_type": "code",
   "execution_count": null,
   "metadata": {},
   "outputs": [],
   "source": [
    "worker.check_device_map(no_split_module_classes=[\"LlamaDecoderLayer\"])"
   ]
  },
  {
   "cell_type": "code",
   "execution_count": null,
   "metadata": {},
   "outputs": [],
   "source": [
    "worker.load_model()"
   ]
  },
  {
   "cell_type": "code",
   "execution_count": null,
   "metadata": {},
   "outputs": [],
   "source": [
    "# Could make these from the training set with the preferred responses (slice them off so you don't fine tune on them?)\n",
    "\n",
    "examples = [\n",
    "    {\n",
    "        \"query\":\"What is the capital of Japan?\",\n",
    "        \"answer\":\"Tokyo is the capital city of Japan.\"\n",
    "    },\n",
    "    {\n",
    "        \"query\":\"What is the main ingredient in an omlette?\",\n",
    "        \"answer\":\"The main ingredient in an omelette is egg.\"\n",
    "    }\n",
    "]\n",
    "\n",
    "# examples = []\n",
    "\n",
    "example_template = \"\"\"\n",
    "Human: {query}\n",
    "AI: {answer}\n",
    "\"\"\"\n",
    "\n",
    "example_prompt = PromptTemplate(\n",
    "    input_variables = [\"query\", \"answer\"],\n",
    "    template=example_template\n",
    ")\n",
    "\n",
    "prefix = \"\"\"\n",
    "You are an AI responding to questions from a human. Try and be helpful but not harmful.\n",
    "Some examples of good behaviour are:\n",
    "\"\"\"\n",
    "\n",
    "suffix = \"\"\"\n",
    "{query}\n",
    "AI:\n",
    "\"\"\"\n",
    "\n",
    "prompt_template = FewShotPromptTemplate(\n",
    "    examples=examples,\n",
    "    example_prompt=example_prompt,\n",
    "    prefix=prefix,\n",
    "    suffix=suffix,\n",
    "    input_variables=[\"query\"],\n",
    "    example_separator=\"\\n\"\n",
    ")"
   ]
  },
  {
   "cell_type": "code",
   "execution_count": null,
   "metadata": {},
   "outputs": [],
   "source": [
    "data_path = file_paths[np.random.choice([0,1])]\n",
    "query = next(iter(stream_jsonl(data_path)))\n",
    "query = query['chosen'].split('\\n')[2]\n",
    "\n",
    "prompt = prompt_template.format(query=query)\n",
    "\n",
    "response = worker.generate_text(prompt)\n",
    "print(response)"
   ]
  },
  {
   "cell_type": "code",
   "execution_count": null,
   "metadata": {},
   "outputs": [],
   "source": []
  }
 ],
 "metadata": {
  "kernelspec": {
   "display_name": "Python 3",
   "language": "python",
   "name": "python3"
  },
  "language_info": {
   "codemirror_mode": {
    "name": "ipython",
    "version": 3
   },
   "file_extension": ".py",
   "mimetype": "text/x-python",
   "name": "python",
   "nbconvert_exporter": "python",
   "pygments_lexer": "ipython3",
   "version": "3.9.16"
  }
 },
 "nbformat": 4,
 "nbformat_minor": 2
}
