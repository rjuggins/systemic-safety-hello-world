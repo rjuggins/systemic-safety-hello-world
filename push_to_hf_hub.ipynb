{
 "cells": [
  {
   "cell_type": "code",
   "execution_count": null,
   "metadata": {},
   "outputs": [],
   "source": [
    "import os\n",
    "import yaml\n",
    "from transformers import AutoModelForCausalLM\n",
    "from huggingface_hub import HfApi, HfFolder, Repository\n",
    "from huggingface_hub.utils._errors import RepositoryNotFoundError\n",
    "\n",
    "# Load config file into dictionary\n",
    "with open('./config/instructor_config.yaml', 'r') as file:\n",
    "    config = yaml.safe_load(file)\n",
    "print(config)\n",
    "\n",
    "hf_key_path = config.get(\"hf_key_path\")\n",
    "if hf_key_path is not None:\n",
    "    with open(hf_key_path, \"r\") as file:\n",
    "        hf_auth = file.read().strip()\n",
    "else:\n",
    "    hf_auth = None\n",
    "    \n",
    "model_dir = os.path.join(config[\"training_params\"][\"output_dir\"], config[\"checkpoint_name\"])\n",
    "model = AutoModelForCausalLM.from_pretrained(model_dir, device_map='auto')"
   ]
  },
  {
   "cell_type": "code",
   "execution_count": null,
   "metadata": {},
   "outputs": [],
   "source": [
    "# Initialize API\n",
    "api = HfApi()\n",
    "\n",
    "# Function to check if the repo exists\n",
    "def repo_exists(repo_id, token):\n",
    "    try:\n",
    "        api.repo_info(repo_id=repo_id, token=token)\n",
    "        return True\n",
    "    except RepositoryNotFoundError:\n",
    "        return False\n",
    "\n",
    "# Check if the repository exists\n",
    "if repo_exists(config[\"model_repo_id\"], hf_auth):\n",
    "    print(f\"Not pushing model as repository {config['model_repo_id']} already exists.\")\n",
    "else:\n",
    "    if config.get(\"push_to_hub\") == True:\n",
    "        model.push_to_hub(config[\"model_repo_id\"], use_auth_token=hf_auth)\n",
    "    else:\n",
    "        print(f\"Not pushing model as config 'push_to_hub' parameter not set to True\")"
   ]
  },
  {
   "cell_type": "code",
   "execution_count": null,
   "metadata": {},
   "outputs": [],
   "source": []
  }
 ],
 "metadata": {
  "kernelspec": {
   "display_name": "Python 3",
   "language": "python",
   "name": "python3"
  },
  "language_info": {
   "codemirror_mode": {
    "name": "ipython",
    "version": 3
   },
   "file_extension": ".py",
   "mimetype": "text/x-python",
   "name": "python",
   "nbconvert_exporter": "python",
   "pygments_lexer": "ipython3",
   "version": "3.10.12"
  }
 },
 "nbformat": 4,
 "nbformat_minor": 2
}
