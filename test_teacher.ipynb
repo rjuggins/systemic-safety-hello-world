{
 "cells": [
  {
   "cell_type": "code",
   "execution_count": null,
   "metadata": {},
   "outputs": [],
   "source": [
    "import yaml\n",
    "from components.worker import Worker\n",
    "from components.teacher import Teacher\n",
    "\n",
    "# Load config file into dictionary\n",
    "with open(\"./config/config.yaml\", \"r\") as file:\n",
    "    config = yaml.safe_load(file)\n",
    "print(config)\n",
    "\n",
    "# Load worker prompts\n",
    "with open(\"./config/worker_prompt_examples.yaml\", \"r\") as file:\n",
    "    worker_prompt_examples = yaml.safe_load(file)\n",
    "\n",
    "# Initialise Worker\n",
    "worker = Worker(config[\"model_id\"], lora_id=config[\"lora_id\"], bnb_params=config[\"bnb_params\"])\n",
    "worker.load_model()\n",
    "worker.create_prompt_template(worker_prompt_examples)\n",
    "# worker.model"
   ]
  },
  {
   "cell_type": "code",
   "execution_count": null,
   "metadata": {},
   "outputs": [],
   "source": [
    "teacher = Teacher(config)\n",
    "teacher.load_data(config[\"helpfulness_train_data\"], frac=0.1)\n",
    "teacher.teaching_dataset"
   ]
  },
  {
   "cell_type": "code",
   "execution_count": null,
   "metadata": {},
   "outputs": [],
   "source": [
    "teacher.train_model(worker)"
   ]
  },
  {
   "cell_type": "code",
   "execution_count": null,
   "metadata": {},
   "outputs": [],
   "source": [
    "from datasets import load_dataset\n",
    "dataset = load_dataset('json', data_files={'train': './data/helpful-base/train.jsonl'})['train']\n",
    "dataset[0]"
   ]
  },
  {
   "cell_type": "code",
   "execution_count": null,
   "metadata": {},
   "outputs": [],
   "source": []
  }
 ],
 "metadata": {
  "kernelspec": {
   "display_name": "Python 3",
   "language": "python",
   "name": "python3"
  },
  "language_info": {
   "codemirror_mode": {
    "name": "ipython",
    "version": 3
   },
   "file_extension": ".py",
   "mimetype": "text/x-python",
   "name": "python",
   "nbconvert_exporter": "python",
   "pygments_lexer": "ipython3",
   "version": "3.10.12"
  }
 },
 "nbformat": 4,
 "nbformat_minor": 2
}
