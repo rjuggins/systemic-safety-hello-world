{
 "cells": [
  {
   "cell_type": "code",
   "execution_count": null,
   "metadata": {},
   "outputs": [],
   "source": [
    "import yaml\n",
    "from components.worker import Worker\n",
    "from components.teacher import Teacher\n",
    "\n",
    "# Load config file into dictionary\n",
    "with open(\"./config/config.yaml\", \"r\") as file:\n",
    "    config = yaml.safe_load(file)\n",
    "print(config)\n",
    "\n",
    "# Load teacher config file into dictionary\n",
    "with open(\"./config/teacher_config.yaml\", \"r\") as file:\n",
    "    teacher_config = yaml.safe_load(file)\n",
    "print(teacher_config)\n",
    "\n",
    "# Load worker prompts\n",
    "with open(\"./config/worker_prompt_examples.yaml\", \"r\") as file:\n",
    "    worker_prompt_examples = yaml.safe_load(file)\n",
    "\n",
    "# Initialise Worker\n",
    "worker = Worker(config[\"model_id\"], lora_id=config[\"lora_id\"], bnb_params=config[\"bnb_params\"])\n",
    "worker.load_model()\n",
    "worker.create_prompt_template(worker_prompt_examples)\n",
    "# worker.model"
   ]
  },
  {
   "cell_type": "code",
   "execution_count": null,
   "metadata": {},
   "outputs": [],
   "source": [
    "teacher = Teacher(teacher_config)\n",
    "teacher.load_worker(worker)\n",
    "teacher.load_data(config[\"helpfulness_train_data\"], sample_frac=0.1, sft_frac=0.5)"
   ]
  },
  {
   "cell_type": "code",
   "execution_count": null,
   "metadata": {},
   "outputs": [],
   "source": [
    "teacher.process_sft_data()\n",
    "teacher.sft_train_dataset['text']"
   ]
  },
  {
   "cell_type": "code",
   "execution_count": null,
   "metadata": {},
   "outputs": [],
   "source": [
    "teacher.process_dpo_data()\n",
    "teacher.dpo_dataset"
   ]
  },
  {
   "cell_type": "code",
   "execution_count": null,
   "metadata": {},
   "outputs": [],
   "source": [
    "teacher.sft_train_model()"
   ]
  }
 ],
 "metadata": {
  "kernelspec": {
   "display_name": "Python 3",
   "language": "python",
   "name": "python3"
  },
  "language_info": {
   "codemirror_mode": {
    "name": "ipython",
    "version": 3
   },
   "file_extension": ".py",
   "mimetype": "text/x-python",
   "name": "python",
   "nbconvert_exporter": "python",
   "pygments_lexer": "ipython3",
   "version": "3.10.12"
  }
 },
 "nbformat": 4,
 "nbformat_minor": 2
}
