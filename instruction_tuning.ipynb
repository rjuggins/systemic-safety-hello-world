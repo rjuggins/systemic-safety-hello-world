{
 "cells": [
  {
   "cell_type": "code",
   "execution_count": null,
   "metadata": {},
   "outputs": [],
   "source": [
    "import yaml\n",
    "from peft import LoraConfig, get_peft_model\n",
    "from transformers import (\n",
    "    Trainer,\n",
    "    TrainingArguments,\n",
    "    DataCollatorForLanguageModeling)\n",
    "from trl import SFTTrainer\n",
    "from components.instructor import Instructor\n",
    "\n",
    "# Load config file into dictionary\n",
    "with open('./config/instructor_config.yaml', 'r') as file:\n",
    "    config = yaml.safe_load(file)\n",
    "print(config)\n",
    "\n",
    "instructor = Instructor(config)\n",
    "instructor.load_model()\n",
    "instructor.load_data(test_size=0.1)\n",
    "# instructor.tokenize_data()"
   ]
  },
  {
   "cell_type": "code",
   "execution_count": null,
   "metadata": {},
   "outputs": [],
   "source": [
    "# Load config file into dictionary -- ONLY CHANGE TRAINING AND LORA PARAMETERS HERE\n",
    "with open('./config/instructor_config.yaml', 'r') as file:\n",
    "    config = yaml.safe_load(file)\n",
    "print(config)\n",
    "\n",
    "data_collator = DataCollatorForLanguageModeling(tokenizer=instructor.tokenizer, mlm=False)\n",
    "\n",
    "# LoRA configuration\n",
    "peft_config = LoraConfig(\n",
    "    r=config[\"r\"],\n",
    "    lora_alpha=config[\"lora_alpha\"],\n",
    "    lora_dropout=config[\"lora_dropout\"],\n",
    "    bias=config[\"bias\"],\n",
    "    task_type=config[\"task_type\"],\n",
    "    target_modules=config[\"target_modules\"]\n",
    ")\n",
    "\n",
    "lora_model = get_peft_model(instructor.model, peft_config)\n",
    "lora_model.print_trainable_parameters()\n",
    "\n",
    "# Training arguments\n",
    "training_args = TrainingArguments(\n",
    "    output_dir=config[\"output_dir\"],\n",
    "    per_device_train_batch_size=config[\"per_device_train_batch_size\"],\n",
    "    gradient_accumulation_steps=config[\"gradient_accumulation_steps\"],\n",
    "    gradient_checkpointing=config[\"gradient_checkpointing\"],\n",
    "    learning_rate=config[\"learning_rate\"],\n",
    "    lr_scheduler_type=config[\"lr_scheduler_type\"],\n",
    "    max_steps=config[\"max_steps\"],\n",
    "    logging_steps=config[\"logging_steps\"],\n",
    "    optim=config[\"optim\"],\n",
    "    warmup_ratio=config[\"warmup_ratio\"],\n",
    "    report_to=config[\"report_to\"]\n",
    ")\n",
    "\n",
    "# Create trainer\n",
    "trainer = SFTTrainer(\n",
    "    model=instructor.model,\n",
    "    args=training_args,\n",
    "    peft_config=peft_config,\n",
    "    data_collator=data_collator,\n",
    "    train_dataset=instructor.train_dataset,\n",
    "    eval_dataset=instructor.test_dataset,\n",
    "    dataset_text_field=\"text\",\n",
    "    \n",
    "    tokenizer=instructor.tokenizer\n",
    ")\n",
    "\n",
    "trainer.train()"
   ]
  },
  {
   "cell_type": "code",
   "execution_count": null,
   "metadata": {},
   "outputs": [],
   "source": []
  }
 ],
 "metadata": {
  "kernelspec": {
   "display_name": "Python 3",
   "language": "python",
   "name": "python3"
  },
  "language_info": {
   "codemirror_mode": {
    "name": "ipython",
    "version": 3
   },
   "file_extension": ".py",
   "mimetype": "text/x-python",
   "name": "python",
   "nbconvert_exporter": "python",
   "pygments_lexer": "ipython3",
   "version": "3.10.12"
  }
 },
 "nbformat": 4,
 "nbformat_minor": 2
}
