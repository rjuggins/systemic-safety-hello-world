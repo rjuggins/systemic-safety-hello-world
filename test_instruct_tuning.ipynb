{
 "cells": [
  {
   "cell_type": "code",
   "execution_count": null,
   "metadata": {},
   "outputs": [],
   "source": [
    "from transformers import Trainer, TrainingArguments\n",
    "from datasets import Dataset, load_dataset\n",
    "from peft import get_peft_model, LoraConfig, TaskType, PeftModel, PeftConfig\n",
    "from models.worker import Worker\n",
    "\n",
    "import os\n",
    "os.environ['WANDB_DISABLED'] = 'true'"
   ]
  },
  {
   "cell_type": "code",
   "execution_count": null,
   "metadata": {},
   "outputs": [],
   "source": [
    "# Load model\n",
    "\n",
    "model_id = 'princeton-nlp/Sheared-LLaMA-2.7B'\n",
    "worker = Worker(model_id)\n",
    "worker.check_device_map(no_split_module_classes=[\"LlamaDecoderLayer\"])\n",
    "worker.load_model()\n",
    "worker.model"
   ]
  },
  {
   "cell_type": "code",
   "execution_count": null,
   "metadata": {},
   "outputs": [],
   "source": [
    "# Set up LoRA\n",
    "\n",
    "peft_config = LoraConfig(\n",
    "    task_type=TaskType.CAUSAL_LM, inference_mode=False, r=8, lora_alpha=32, lora_dropout=0.1\n",
    ")\n",
    "\n",
    "worker.model = get_peft_model(worker.model, peft_config)\n",
    "worker.model.print_trainable_parameters()"
   ]
  },
  {
   "cell_type": "code",
   "execution_count": null,
   "metadata": {},
   "outputs": [],
   "source": [
    "# Load instruction tuning dataset\n",
    "\n",
    "dataset_name = 'databricks/databricks-dolly-15k'\n",
    "dataset = load_dataset(dataset_name)\n",
    "dataset['train']"
   ]
  },
  {
   "cell_type": "code",
   "execution_count": null,
   "metadata": {},
   "outputs": [],
   "source": [
    "# Format dataset into valid query/answer pairs to train on\n",
    "\n",
    "prompt_template = \"\"\"query: {query}\n",
    "context: {context}\n",
    "answer: {answer}\n",
    "\"\"\"\n",
    "\n",
    "samples = []\n",
    "\n",
    "for example in dataset['train']:\n",
    "    sample = prompt_template.format(query=example['instruction'],\n",
    "                                    context=example['context'],\n",
    "                                    answer=example['response'])\n",
    "    samples.append(sample)\n",
    "\n",
    "samples_dict = {'text': samples}\n",
    "\n",
    "tuning_dataset = Dataset.from_dict(samples_dict)\n",
    "tuning_dataset"
   ]
  },
  {
   "cell_type": "code",
   "execution_count": null,
   "metadata": {},
   "outputs": [],
   "source": [
    "# tokenize dataset\n",
    "\n",
    "def tokenize_function(samples):\n",
    "    return worker.tokenizer(samples['text'], padding='max_length', truncation=True)\n",
    "\n",
    "tokenized_dataset = tuning_dataset.map(tokenize_function, batched=True)\n",
    "tokenized_dataset"
   ]
  },
  {
   "cell_type": "code",
   "execution_count": null,
   "metadata": {},
   "outputs": [],
   "source": [
    "# Fine-tune model\n",
    "\n",
    "training_args = TrainingArguments(\n",
    "    output_dir='./checkpoints',      # output directory for model checkpoints\n",
    "    num_train_epochs=1,              # number of training epochs\n",
    "    per_device_train_batch_size=8,   # batch size per device during training\n",
    "    per_device_eval_batch_size=8,    # batch size for evaluation\n",
    "    warmup_steps=500,                # number of warmup steps for learning rate scheduler\n",
    "    weight_decay=0.01,               # strength of weight decay\n",
    "    logging_dir='./logs',            # directory for storing logs\n",
    ")\n",
    "\n",
    "trainer = Trainer(\n",
    "    model=worker.model,\n",
    "    args=training_args,\n",
    "    train_dataset=tokenized_dataset\n",
    ")\n",
    "\n",
    "trainer.train()"
   ]
  },
  {
   "cell_type": "code",
   "execution_count": null,
   "metadata": {},
   "outputs": [],
   "source": [
    "# Save checkpoint\n",
    "\n",
    "worker.model.save_pretrained('./checkpoints') \n",
    "worker.save_pretrained('./checkpoints')"
   ]
  },
  {
   "cell_type": "code",
   "execution_count": null,
   "metadata": {},
   "outputs": [],
   "source": [
    "# Load checkpoint and do some inference\n",
    "\n",
    "# import torch\n",
    "# from transformers import AutoModel, AutoTokenizer\n",
    "\n",
    "# peft_model_id = './checkpoints/...'\n",
    "# config = PeftConfig.from_pretrained(peft_model_id)\n",
    "# model = AutoModel.from_pretrained(model_id)\n",
    "# model = PeftModel.from_pretrained(model, peft_model_id)\n",
    "# tokenizer = AutoTokenizer.from_pretrained(model_id)\n",
    "\n",
    "# device = 'cuda'\n",
    "# model = model.to(device)\n",
    "# model.eval()\n",
    "# inputs = tokenizer(\"Tweet text : @HondaCustSvc Your customer service has been horrible during the recall process. I will never purchase a Honda again. Label :\", return_tensors=\"pt\")\n",
    "\n",
    "# with torch.no_grad():\n",
    "#     outputs = model.generate(input_ids=inputs[\"input_ids\"].to(\"cuda\"), max_new_tokens=10)\n",
    "#     print(tokenizer.batch_decode(outputs.detach().cpu().numpy(), skip_special_tokens=True)[0])"
   ]
  }
 ],
 "metadata": {
  "kernelspec": {
   "display_name": "Python 3",
   "language": "python",
   "name": "python3"
  },
  "language_info": {
   "codemirror_mode": {
    "name": "ipython",
    "version": 3
   },
   "file_extension": ".py",
   "mimetype": "text/x-python",
   "name": "python",
   "nbconvert_exporter": "python",
   "pygments_lexer": "ipython3",
   "version": "3.9.16"
  }
 },
 "nbformat": 4,
 "nbformat_minor": 2
}
